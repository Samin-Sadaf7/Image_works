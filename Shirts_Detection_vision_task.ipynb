{
  "nbformat": 4,
  "nbformat_minor": 0,
  "metadata": {
    "colab": {
      "provenance": [],
      "toc_visible": true,
      "authorship_tag": "ABX9TyNajkQtyit+2i463acGfngF",
      "include_colab_link": true
    },
    "kernelspec": {
      "name": "python3",
      "display_name": "Python 3"
    },
    "language_info": {
      "name": "python"
    }
  },
  "cells": [
    {
      "cell_type": "markdown",
      "metadata": {
        "id": "view-in-github",
        "colab_type": "text"
      },
      "source": [
        "<a href=\"https://colab.research.google.com/github/Samin-Sadaf7/Image_works/blob/main/Shirts_Detection_vision_task.ipynb\" target=\"_parent\"><img src=\"https://colab.research.google.com/assets/colab-badge.svg\" alt=\"Open In Colab\"/></a>"
      ]
    },
    {
      "cell_type": "markdown",
      "source": [
        "##Mount Drive"
      ],
      "metadata": {
        "id": "3xodGZDyGBbh"
      }
    },
    {
      "cell_type": "code",
      "execution_count": 1,
      "metadata": {
        "colab": {
          "base_uri": "https://localhost:8080/"
        },
        "id": "Z-ppRfE6MPKB",
        "outputId": "b8ad2489-2b43-4b4d-9791-3fc3be9429fa"
      },
      "outputs": [
        {
          "output_type": "stream",
          "name": "stdout",
          "text": [
            "Mounted at /content/gdrive\n"
          ]
        }
      ],
      "source": [
        "from google.colab import drive\n",
        "drive.mount(\"/content/gdrive\")"
      ]
    },
    {
      "cell_type": "markdown",
      "source": [
        "##Ignore Warnings"
      ],
      "metadata": {
        "id": "Y-yQevjhGEkD"
      }
    },
    {
      "cell_type": "code",
      "source": [
        "import warnings\n",
        "warnings.filterwarnings('ignore')"
      ],
      "metadata": {
        "id": "q2VQe6RnAtV6"
      },
      "execution_count": 15,
      "outputs": []
    },
    {
      "cell_type": "markdown",
      "source": [
        "##Unzips folder"
      ],
      "metadata": {
        "id": "lulyqSfxGHCN"
      }
    },
    {
      "cell_type": "code",
      "source": [
        "import zipfile\n",
        "import os\n",
        "import shutil\n",
        "\n",
        "def unzip_folder(zip_file_path, destination_folder):\n",
        "    # Create the destination folder if it doesn't exist\n",
        "    if not os.path.exists(destination_folder):\n",
        "        os.makedirs(destination_folder)\n",
        "\n",
        "    # Unzip the contents of the zip file into the destination folder\n",
        "    with zipfile.ZipFile(zip_file_path, 'r') as zip_ref:\n",
        "        zip_ref.extractall(destination_folder)\n",
        "\n",
        "    print(f'Unzipped contents to: {destination_folder}')"
      ],
      "metadata": {
        "id": "KHQ8Cv9IMZPh"
      },
      "execution_count": 2,
      "outputs": []
    },
    {
      "cell_type": "code",
      "source": [
        "\n",
        "zip_file = '/content/gdrive/MyDrive/Garments Product/Shirt Defect Detection.v1i.folder.zip'\n",
        "new_folder = '/content/gdrive/MyDrive/Garments Product/shirt_dataset_v1'\n",
        "\n",
        "unzip_folder(zip_file, new_folder)"
      ],
      "metadata": {
        "colab": {
          "base_uri": "https://localhost:8080/"
        },
        "id": "W1qPMCLqMiSJ",
        "outputId": "18c9a73e-0bfb-4ae1-8e56-2c51d86d69bb"
      },
      "execution_count": 6,
      "outputs": [
        {
          "output_type": "stream",
          "name": "stdout",
          "text": [
            "Unzipped contents to: /content/gdrive/MyDrive/Garments Product/shirt_dataset_v1\n"
          ]
        }
      ]
    },
    {
      "cell_type": "markdown",
      "source": [
        "##Count Folders in Directory"
      ],
      "metadata": {
        "id": "c5h-d7kFGJZ_"
      }
    },
    {
      "cell_type": "code",
      "source": [
        "import os\n",
        "\n",
        "def count_files_in_directory(directory):\n",
        "    # List all files in the directory\n",
        "    files = [file for file in os.listdir(directory) if os.path.isfile(os.path.join(directory, file))]\n",
        "\n",
        "    # Return the number of files\n",
        "    return len(files)"
      ],
      "metadata": {
        "id": "Ifo35yYTu1Fz"
      },
      "execution_count": 3,
      "outputs": []
    },
    {
      "cell_type": "code",
      "source": [
        "directory_path = new_folder\n",
        "file_count = count_files_in_directory(directory_path)\n",
        "print(f\"Number of files in directory: {file_count}\")"
      ],
      "metadata": {
        "colab": {
          "base_uri": "https://localhost:8080/"
        },
        "id": "HTZML-prvCB-",
        "outputId": "9973606c-617c-458a-e653-93426d40d9cc"
      },
      "execution_count": 5,
      "outputs": [
        {
          "output_type": "stream",
          "name": "stdout",
          "text": [
            "Number of files in directory: 15\n"
          ]
        }
      ]
    },
    {
      "cell_type": "markdown",
      "source": [
        "##Import Libraries"
      ],
      "metadata": {
        "id": "oKS9KeOXGL9N"
      }
    },
    {
      "cell_type": "code",
      "source": [
        "import torch\n",
        "import torch.nn as nn\n",
        "import torch.optim as optim\n",
        "from torchvision import datasets, transforms, models\n",
        "import os"
      ],
      "metadata": {
        "id": "B0sSR_JavKlr"
      },
      "execution_count": 7,
      "outputs": []
    },
    {
      "cell_type": "markdown",
      "source": [
        "##Apply Transformation and Image Augmentation"
      ],
      "metadata": {
        "id": "NKGvVe-wGSi1"
      }
    },
    {
      "cell_type": "code",
      "source": [
        "data_transforms = {\n",
        "    'train': transforms.Compose([\n",
        "        transforms.RandomResizedCrop(224),\n",
        "        transforms.RandomHorizontalFlip(),\n",
        "        transforms.ToTensor(),\n",
        "        transforms.Normalize([0.485, 0.456, 0.406], [0.229, 0.224, 0.225])\n",
        "    ]),\n",
        "    'valid': transforms.Compose([\n",
        "        transforms.Resize(256),\n",
        "        transforms.CenterCrop(224),\n",
        "        transforms.ToTensor(),\n",
        "        transforms.Normalize([0.485, 0.456, 0.406], [0.229, 0.224, 0.225])\n",
        "    ]),\n",
        "}"
      ],
      "metadata": {
        "id": "XS2kABn-_qE3"
      },
      "execution_count": 10,
      "outputs": []
    },
    {
      "cell_type": "markdown",
      "source": [
        "##Set Up Roboflow"
      ],
      "metadata": {
        "id": "FYELkK_BGOZs"
      }
    },
    {
      "cell_type": "code",
      "source": [
        "!pip install roboflow"
      ],
      "metadata": {
        "id": "C1zZ0nytBkam"
      },
      "execution_count": null,
      "outputs": []
    },
    {
      "cell_type": "code",
      "source": [
        "from google.colab import userdata\n",
        "Roboflow_API_KEY = userdata.get('Roboflow_API_KEY')"
      ],
      "metadata": {
        "id": "HYeKc5BCBb0d"
      },
      "execution_count": 18,
      "outputs": []
    },
    {
      "cell_type": "code",
      "source": [
        "from roboflow import Roboflow\n",
        "rf = Roboflow(api_key=Roboflow_API_KEY)\n",
        "project = rf.workspace(\"syed-samin-sadaf\").project(\"shirt-defect-detection\")\n",
        "version = project.version(2)\n",
        "dataset = version.download(\"folder\")"
      ],
      "metadata": {
        "colab": {
          "base_uri": "https://localhost:8080/"
        },
        "id": "PVEoeOoMBPjl",
        "outputId": "56f23e3b-ef12-4378-c831-706102b7eb63"
      },
      "execution_count": 23,
      "outputs": [
        {
          "output_type": "stream",
          "name": "stdout",
          "text": [
            "loading Roboflow workspace...\n",
            "loading Roboflow project...\n"
          ]
        },
        {
          "output_type": "stream",
          "name": "stderr",
          "text": [
            "Downloading Dataset Version Zip in Shirt-Defect-Detection-2 to folder:: 100%|██████████| 874/874 [00:00<00:00, 35908.45it/s]"
          ]
        },
        {
          "output_type": "stream",
          "name": "stdout",
          "text": [
            "\n"
          ]
        },
        {
          "output_type": "stream",
          "name": "stderr",
          "text": [
            "\n",
            "Extracting Dataset Version Zip to Shirt-Defect-Detection-2 in folder:: 100%|██████████| 57/57 [00:00<00:00, 5104.30it/s]\n"
          ]
        }
      ]
    },
    {
      "cell_type": "markdown",
      "source": [
        "##Import Dataset"
      ],
      "metadata": {
        "id": "URlcqgMpGXWW"
      }
    },
    {
      "cell_type": "code",
      "source": [
        "# Define the data directory\n",
        "data_dir = '/content/Shirt-Defect-Detection-2'\n",
        "\n",
        "# Create data loaders\n",
        "image_datasets = {x: datasets.ImageFolder(os.path.join(data_dir, x), data_transforms[x]) for x in ['train', 'valid']}\n",
        "#image_datasets"
      ],
      "metadata": {
        "id": "3jGTO6onAAxw"
      },
      "execution_count": 24,
      "outputs": []
    },
    {
      "cell_type": "markdown",
      "source": [
        "##Set up Data Loader"
      ],
      "metadata": {
        "id": "Y5_BXM_JGcXX"
      }
    },
    {
      "cell_type": "code",
      "source": [
        "dataloaders = {x: torch.utils.data.DataLoader(image_datasets[x], batch_size=4, shuffle=True, num_workers=4) for x in ['train', 'valid']}\n",
        "dataset_sizes = {x: len(image_datasets[x]) for x in ['train', 'valid']}\n",
        "print(dataset_sizes)\n",
        "\n",
        "class_names = image_datasets['train'].classes\n",
        "class_names"
      ],
      "metadata": {
        "colab": {
          "base_uri": "https://localhost:8080/"
        },
        "id": "ggQG20EfASB2",
        "outputId": "ddef228f-9382-4e13-f73a-dcfc4978aca8"
      },
      "execution_count": 25,
      "outputs": [
        {
          "output_type": "stream",
          "name": "stdout",
          "text": [
            "{'train': 33, 'valid': 3}\n"
          ]
        },
        {
          "output_type": "execute_result",
          "data": {
            "text/plain": [
              "['Armhole Packering Ok',\n",
              " 'Armhole Packering Problem',\n",
              " 'Armhole Puckering Ok',\n",
              " 'Armhole Tension Ok',\n",
              " 'Armhole Tension Problem',\n",
              " 'Collar Puckering Ok',\n",
              " 'Cuff Projection Problem',\n",
              " 'Down Stitch Problem',\n",
              " 'Rawedge Armhole Inside Problem',\n",
              " 'Side seam point updown Ok',\n",
              " 'Side seam point updown Problem']"
            ]
          },
          "metadata": {},
          "execution_count": 25
        }
      ]
    },
    {
      "cell_type": "code",
      "source": [
        "class_names = image_datasets['valid'].classes\n",
        "class_names"
      ],
      "metadata": {
        "colab": {
          "base_uri": "https://localhost:8080/"
        },
        "id": "1hZ8XFPUAjj_",
        "outputId": "757fa2ff-8483-4c27-d284-cab8c0c17b62"
      },
      "execution_count": 26,
      "outputs": [
        {
          "output_type": "execute_result",
          "data": {
            "text/plain": [
              "['Armhole Puckering Problem', 'Collar Puckering Problem', 'Cuff Projection Ok']"
            ]
          },
          "metadata": {},
          "execution_count": 26
        }
      ]
    },
    {
      "cell_type": "markdown",
      "source": [
        "##Set up Resnet problem and Unfreeze the fully connected layer in the end"
      ],
      "metadata": {
        "id": "mOpGZbevGe7G"
      }
    },
    {
      "cell_type": "code",
      "source": [
        "# Load the pre-trained ResNet-18 model\n",
        "model = models.resnet18(pretrained=True)\n",
        "\n",
        "# Freeze all layers except the final classification layer\n",
        "for name, param in model.named_parameters():\n",
        "    if \"fc\" in name:  # Unfreeze the final classification layer\n",
        "        param.requires_grad = True\n",
        "    else:\n",
        "        param.requires_grad = False\n",
        "\n",
        "# Define the loss function and optimizer\n",
        "criterion = nn.CrossEntropyLoss()\n",
        "optimizer = optim.SGD(model.parameters(), lr=0.001, momentum=0.9)"
      ],
      "metadata": {
        "colab": {
          "base_uri": "https://localhost:8080/"
        },
        "id": "sCoS3ZAeAzvr",
        "outputId": "b283db0d-3177-45bf-a67f-1de855284ab7"
      },
      "execution_count": 27,
      "outputs": [
        {
          "output_type": "stream",
          "name": "stderr",
          "text": [
            "Downloading: \"https://download.pytorch.org/models/resnet18-f37072fd.pth\" to /root/.cache/torch/hub/checkpoints/resnet18-f37072fd.pth\n",
            "100%|██████████| 44.7M/44.7M [00:00<00:00, 127MB/s]\n"
          ]
        }
      ]
    },
    {
      "cell_type": "code",
      "source": [
        "# Move the model to the GPU if available\n",
        "device = torch.device(\"cuda:0\" if torch.cuda.is_available() else \"cpu\")\n",
        "model = model.to(device)"
      ],
      "metadata": {
        "id": "a3U8i5KbCrZB"
      },
      "execution_count": 28,
      "outputs": []
    },
    {
      "cell_type": "markdown",
      "source": [
        "##Setting Up Training Loop"
      ],
      "metadata": {
        "id": "lQKf4RX9Glyd"
      }
    },
    {
      "cell_type": "code",
      "source": [
        "# Training loop\n",
        "num_epochs = 10\n",
        "for epoch in range(num_epochs):\n",
        "    for phase in ['train', 'valid']:\n",
        "        if phase == 'train':\n",
        "            model.train()\n",
        "        else:\n",
        "            model.eval()\n",
        "\n",
        "        running_loss = 0.0\n",
        "        running_corrects = 0\n",
        "\n",
        "        for inputs, labels in dataloaders[phase]:\n",
        "            inputs = inputs.to(device)\n",
        "            labels = labels.to(device)\n",
        "\n",
        "            optimizer.zero_grad()\n",
        "\n",
        "            with torch.set_grad_enabled(phase == 'train'):\n",
        "                outputs = model(inputs)\n",
        "                _, preds = torch.max(outputs, 1)\n",
        "                loss = criterion(outputs, labels)\n",
        "\n",
        "                if phase == 'train':\n",
        "                    loss.backward()\n",
        "                    optimizer.step()\n",
        "\n",
        "            running_loss += loss.item() * inputs.size(0)\n",
        "            running_corrects += torch.sum(preds == labels.data)\n",
        "\n",
        "        epoch_loss = running_loss / dataset_sizes[phase]\n",
        "        epoch_acc = running_corrects.double() / dataset_sizes[phase]\n",
        "\n",
        "        print(f'{phase} Loss: {epoch_loss:.4f} Acc: {epoch_acc:.4f}')\n",
        "\n",
        "print(\"Training complete!\")"
      ],
      "metadata": {
        "colab": {
          "base_uri": "https://localhost:8080/"
        },
        "id": "6fqbptQUCz6c",
        "outputId": "44fd8871-c80d-49f6-938a-a96a642f02e7"
      },
      "execution_count": 29,
      "outputs": [
        {
          "output_type": "stream",
          "name": "stdout",
          "text": [
            "train Loss: 8.1164 Acc: 0.0303\n",
            "valid Loss: 9.4561 Acc: 0.0000\n",
            "train Loss: 6.0381 Acc: 0.0909\n",
            "valid Loss: 6.4872 Acc: 0.0000\n",
            "train Loss: 4.4241 Acc: 0.0909\n",
            "valid Loss: 4.2546 Acc: 0.0000\n",
            "train Loss: 2.9030 Acc: 0.1818\n",
            "valid Loss: 4.1169 Acc: 0.0000\n",
            "train Loss: 2.5678 Acc: 0.2121\n",
            "valid Loss: 4.1686 Acc: 0.0000\n",
            "train Loss: 2.4321 Acc: 0.1818\n",
            "valid Loss: 3.7290 Acc: 0.0000\n",
            "train Loss: 2.2556 Acc: 0.2424\n",
            "valid Loss: 3.4268 Acc: 0.0000\n",
            "train Loss: 2.2136 Acc: 0.2424\n",
            "valid Loss: 2.6518 Acc: 0.3333\n",
            "train Loss: 2.1825 Acc: 0.2727\n",
            "valid Loss: 3.3289 Acc: 0.0000\n",
            "train Loss: 2.0516 Acc: 0.2424\n",
            "valid Loss: 3.0060 Acc: 0.0000\n",
            "Training complete!\n"
          ]
        }
      ]
    },
    {
      "cell_type": "markdown",
      "source": [
        "##Saved the trainned model"
      ],
      "metadata": {
        "id": "YG_00jdoGp3f"
      }
    },
    {
      "cell_type": "code",
      "source": [
        "# Save the model\n",
        "torch.save(model.state_dict(), 'shirt_problem_classification_model.pth')"
      ],
      "metadata": {
        "id": "2cg3IqljDiVH"
      },
      "execution_count": 30,
      "outputs": []
    },
    {
      "cell_type": "markdown",
      "source": [
        "##Perform Inference on Unseen Image"
      ],
      "metadata": {
        "id": "IWi56_PiGtP0"
      }
    },
    {
      "cell_type": "code",
      "source": [
        "import torch\n",
        "from torchvision import models, transforms\n",
        "from PIL import Image\n",
        "\n",
        "# Load the saved model\n",
        "model = models.resnet18(pretrained=True)\n",
        "model.fc = nn.Linear(model.fc.in_features, 1000)  # Adjust to match the original model's output units\n",
        "model.load_state_dict(torch.load('shirt_problem_classification_model.pth'))\n",
        "model.eval()\n",
        "\n",
        "# Create a new model with the correct final layer\n",
        "new_model = models.resnet18(pretrained=True)\n",
        "new_model.fc = nn.Linear(new_model.fc.in_features, 2)  # Adjust to match the desired output units\n",
        "\n",
        "# Copy the weights and biases from the loaded model to the new model\n",
        "new_model.fc.weight.data = model.fc.weight.data[0:2]  # Copy only the first 2 output units\n",
        "new_model.fc.bias.data = model.fc.bias.data[0:2]"
      ],
      "metadata": {
        "id": "t7C-0b5pDpAs"
      },
      "execution_count": 31,
      "outputs": []
    },
    {
      "cell_type": "code",
      "source": [
        "# Load and preprocess the unseen image\n",
        "image_path = '/content/Shirt-Defect-Detection-2/test/Rawedge Armhole Inside Ok/Rawedge-at-armhole-inside-ok_jpg.rf.c4803c566f3c680414dcb719bf20f4ac.jpg'  # Replace with the path to your image\n",
        "image = Image.open(image_path)\n",
        "preprocess = transforms.Compose([\n",
        "    transforms.Resize(256),\n",
        "    transforms.CenterCrop(224),\n",
        "    transforms.ToTensor(),\n",
        "    transforms.Normalize([0.485, 0.456, 0.406], [0.229, 0.224, 0.225])\n",
        "])\n",
        "input_tensor = preprocess(image)\n",
        "input_batch = input_tensor.unsqueeze(0)  # Add a batch dimension"
      ],
      "metadata": {
        "id": "jRAY3rmhD1SZ"
      },
      "execution_count": 32,
      "outputs": []
    },
    {
      "cell_type": "code",
      "source": [
        "# Perform inference\n",
        "with torch.no_grad():\n",
        "    output = model(input_batch)\n",
        "\n",
        "# Get the predicted class\n",
        "_, predicted_class = output.max(1)\n",
        "\n",
        "# Map the predicted class to the class name\n",
        "class_names = [\n",
        "        \"Armhole Packering Ok\",\n",
        "        \"Armhole Packering Problem\",\n",
        "        \"Armhole Puckering Ok\",\n",
        "        \"Armhole Puckering Problem\",\n",
        "        \"Armhole Tension Ok\",\n",
        "        \"Armhole Tension Problem\",\n",
        "        \"Collar Puckering Ok\",\n",
        "        \"Collar Puckering Problem\",\n",
        "        \"Cuff Projection Ok\",\n",
        "        \"Cuff Projection Problem\",\n",
        "        \"Down Stitch Problem\",\n",
        "        \"Rawedge Armhole Inside Ok\",\n",
        "        \"Rawedge Armhole Inside Problem\",\n",
        "        \"Side seam point updown Ok\",\n",
        "        \"Side seam point updown Problem\"\n",
        "    ]\n",
        "predicted_class_name = class_names[predicted_class.item()]\n",
        "\n",
        "print(f'The predicted class is: {predicted_class_name}')"
      ],
      "metadata": {
        "colab": {
          "base_uri": "https://localhost:8080/"
        },
        "id": "xQfaG-W6EBZ4",
        "outputId": "68ed2ec6-9a46-46f1-bfe0-a9d233fff483"
      },
      "execution_count": 34,
      "outputs": [
        {
          "output_type": "stream",
          "name": "stdout",
          "text": [
            "The predicted class is: Collar Puckering Problem\n"
          ]
        }
      ]
    },
    {
      "cell_type": "code",
      "source": [
        "import numpy as np\n",
        "import matplotlib.pyplot as plt\n",
        "from PIL import Image\n",
        "\n",
        "# Display the image with the predicted class name\n",
        "image = np.array(image)\n",
        "plt.imshow(image)\n",
        "plt.axis('off')\n",
        "plt.text(10, 10, f'Predicted: {predicted_class_name}', fontsize=12, color='white', backgroundcolor='red')\n",
        "plt.show()"
      ],
      "metadata": {
        "colab": {
          "base_uri": "https://localhost:8080/",
          "height": 414
        },
        "id": "qEYbjP2JEFI8",
        "outputId": "a266c37e-f8e4-49dc-a53a-ec48248d0d6f"
      },
      "execution_count": 35,
      "outputs": [
        {
          "output_type": "display_data",
          "data": {
            "text/plain": [
              "<Figure size 640x480 with 1 Axes>"
            ],
            "image/png": "[encoded data removed]"
          },
          "metadata": {}
        }
      ]
    },
    {
      "cell_type": "markdown",
      "source": [
        "#EfficientNet"
      ],
      "metadata": {
        "id": "2-90y7y0IKQn"
      }
    },
    {
      "cell_type": "markdown",
      "source": [
        "##Setting EfficientNetB7"
      ],
      "metadata": {
        "id": "TGPcrE5XG4GC"
      }
    },
    {
      "cell_type": "code",
      "source": [
        "# Load the pre-trained ResNet-18 model\n",
        "model = models.efficientnet_b7(pretrained=True)\n",
        "\n",
        "# Freeze all layers except the final classification layer\n",
        "for name, param in model.named_parameters():\n",
        "    if \"fc\" in name:  # Unfreeze the final classification layer\n",
        "        param.requires_grad = True\n",
        "    else:\n",
        "        param.requires_grad = False\n",
        "\n",
        "# Define the loss function and optimizer\n",
        "criterion = nn.CrossEntropyLoss()\n",
        "optimizer = optim.SGD(model.parameters(), lr=0.001, momentum=0.9)"
      ],
      "metadata": {
        "colab": {
          "base_uri": "https://localhost:8080/"
        },
        "id": "M5YJlEO-G3aA",
        "outputId": "87bbcc45-dba1-4501-fadf-2c1772f1f2c7"
      },
      "execution_count": 39,
      "outputs": [
        {
          "output_type": "stream",
          "name": "stderr",
          "text": [
            "Downloading: \"https://download.pytorch.org/models/efficientnet_b7_lukemelas-c5b4e57e.pth\" to /root/.cache/torch/hub/checkpoints/efficientnet_b7_lukemelas-c5b4e57e.pth\n",
            "100%|██████████| 255M/255M [00:02<00:00, 115MB/s]\n"
          ]
        }
      ]
    },
    {
      "cell_type": "code",
      "source": [
        "device = torch.device(\"cuda:0\" if torch.cuda.is_available() else \"cpu\")\n",
        "model = model.to(device)"
      ],
      "metadata": {
        "id": "JB8nqTPHHKQ8"
      },
      "execution_count": 40,
      "outputs": []
    },
    {
      "cell_type": "markdown",
      "source": [
        "##Setting up Training Loop"
      ],
      "metadata": {
        "id": "GA96FNimIE87"
      }
    },
    {
      "cell_type": "code",
      "source": [
        "# Training loop\n",
        "num_epochs = 10\n",
        "for epoch in range(num_epochs):\n",
        "    for phase in ['train', 'valid']:\n",
        "        if phase == 'train':\n",
        "            model.train()\n",
        "        else:\n",
        "            model.eval()\n",
        "\n",
        "        running_loss = 0.0\n",
        "        running_corrects = 0\n",
        "\n",
        "        for inputs, labels in dataloaders[phase]:\n",
        "            inputs = inputs.to(device)\n",
        "            labels = labels.to(device)\n",
        "\n",
        "            optimizer.zero_grad()\n",
        "\n",
        "            with torch.set_grad_enabled(phase == 'train'):\n",
        "                outputs = model(inputs)\n",
        "                _, preds = torch.max(outputs, 1)\n",
        "                loss = criterion(outputs, labels)\n",
        "\n",
        "                if phase == 'train':\n",
        "                    loss.backward()\n",
        "                    optimizer.step()\n",
        "\n",
        "            running_loss += loss.item() * inputs.size(0)\n",
        "            running_corrects += torch.sum(preds == labels.data)\n",
        "\n",
        "        epoch_loss = running_loss / dataset_sizes[phase]\n",
        "        epoch_acc = running_corrects.double() / dataset_sizes[phase]\n",
        "\n",
        "        print(f'{phase} Loss: {epoch_loss:.4f} Acc: {epoch_acc:.4f}')\n",
        "\n",
        "print(\"Training complete!\")"
      ],
      "metadata": {
        "colab": {
          "base_uri": "https://localhost:8080/"
        },
        "id": "10sVIiMUHmra",
        "outputId": "ebcdf19b-e138-409e-d25d-6708e9b074cd"
      },
      "execution_count": 44,
      "outputs": [
        {
          "output_type": "stream",
          "name": "stdout",
          "text": [
            "train Loss: 7.1194 Acc: 0.0000\n",
            "valid Loss: 8.2882 Acc: 0.0000\n",
            "train Loss: 7.3257 Acc: 0.0000\n",
            "valid Loss: 8.2001 Acc: 0.0000\n",
            "train Loss: 6.9454 Acc: 0.0000\n",
            "valid Loss: 8.1295 Acc: 0.0000\n",
            "train Loss: 6.9290 Acc: 0.0000\n",
            "valid Loss: 8.0809 Acc: 0.0000\n",
            "train Loss: 7.0304 Acc: 0.0000\n",
            "valid Loss: 7.9945 Acc: 0.0000\n",
            "train Loss: 6.7945 Acc: 0.0000\n",
            "valid Loss: 7.9237 Acc: 0.0000\n",
            "train Loss: 6.7915 Acc: 0.0000\n",
            "valid Loss: 7.8577 Acc: 0.0000\n",
            "train Loss: 6.9907 Acc: 0.0000\n",
            "valid Loss: 7.8230 Acc: 0.0000\n",
            "train Loss: 6.9648 Acc: 0.0000\n",
            "valid Loss: 7.7641 Acc: 0.0000\n",
            "train Loss: 6.9177 Acc: 0.0000\n",
            "valid Loss: 7.6982 Acc: 0.0000\n",
            "Training complete!\n"
          ]
        }
      ]
    },
    {
      "cell_type": "code",
      "source": [],
      "metadata": {
        "id": "Otq7k1CVKSCe"
      },
      "execution_count": null,
      "outputs": []
    }
  ]
}