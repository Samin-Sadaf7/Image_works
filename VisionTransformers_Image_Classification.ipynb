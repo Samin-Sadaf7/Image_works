{
  "nbformat": 4,
  "nbformat_minor": 0,
  "metadata": {
    "colab": {
      "provenance": [],
      "gpuType": "T4",
      "authorship_tag": "ABX9TyPLz5eVYjxdlh7ZdkFoE4wn",
      "include_colab_link": true
    },
    "kernelspec": {
      "name": "python3",
      "display_name": "Python 3"
    },
    "language_info": {
      "name": "python"
    },
    "accelerator": "GPU"
  },
  "cells": [
    {
      "cell_type": "markdown",
      "metadata": {
        "id": "view-in-github",
        "colab_type": "text"
      },
      "source": [
        "<a href=\"https://colab.research.google.com/github/Samin-Sadaf7/Image_works/blob/main/VisionTransformers_Image_Classification.ipynb\" target=\"_parent\"><img src=\"https://colab.research.google.com/assets/colab-badge.svg\" alt=\"Open In Colab\"/></a>"
      ]
    },
    {
      "cell_type": "code",
      "execution_count": 22,
      "metadata": {
        "colab": {
          "base_uri": "https://localhost:8080/"
        },
        "id": "07QAuwELATIu",
        "outputId": "74fbcc9c-b507-4c20-d07c-2c027bbb3fd7"
      },
      "outputs": [
        {
          "output_type": "stream",
          "name": "stdout",
          "text": [
            "Requirement already satisfied: einops in /usr/local/lib/python3.10/dist-packages (0.8.0)\n"
          ]
        }
      ],
      "source": [
        "!pip install einops"
      ]
    },
    {
      "cell_type": "code",
      "source": [
        "import torch\n",
        "from torchvision.datasets import OxfordIIITPet\n",
        "import matplotlib.pyplot as plt\n",
        "from random import random\n",
        "from torchvision.transforms import ToTensor, Resize\n",
        "from torchvision.transforms.functional import to_pil_image"
      ],
      "metadata": {
        "id": "es0F94JcDOzz"
      },
      "execution_count": 23,
      "outputs": []
    },
    {
      "cell_type": "code",
      "source": [
        "to_tensor = [Resize((144, 144)), ToTensor()]"
      ],
      "metadata": {
        "id": "Ij7HuzKAEGbt"
      },
      "execution_count": 24,
      "outputs": []
    },
    {
      "cell_type": "code",
      "source": [
        "class Compose(object):\n",
        "  def __init__(self, transforms):\n",
        "    self.transforms = transforms\n",
        "  def __call__(self, image, target):\n",
        "    for t in self.transforms:\n",
        "      image = t(image)\n",
        "    return image, target"
      ],
      "metadata": {
        "id": "FNFDFKevESHM"
      },
      "execution_count": 25,
      "outputs": []
    },
    {
      "cell_type": "code",
      "source": [
        "def show_images(images, num_samples=40, cols=8):\n",
        "    plt.figure(figsize=(15,15))\n",
        "    idx = int(len(dataset) / num_samples)\n",
        "    print(images)\n",
        "    for i, img in enumerate(images):\n",
        "        if i % idx == 0:\n",
        "            plt.subplot(int(num_samples/cols) + 1, cols, int(i/idx) + 1)\n",
        "            plt.imshow(to_pil_image(img[0]))"
      ],
      "metadata": {
        "id": "0NIOc9Z2Enh8"
      },
      "execution_count": 26,
      "outputs": []
    },
    {
      "cell_type": "code",
      "source": [
        "dataset = OxfordIIITPet(root=\".\", download=True, transforms=Compose(to_tensor))\n",
        "show_images(dataset)"
      ],
      "metadata": {
        "colab": {
          "base_uri": "https://localhost:8080/"
        },
        "id": "wyPKEYFoEv1l",
        "outputId": "9061f408-fde1-45c7-9a37-52b3001b9b04"
      },
      "execution_count": 27,
      "outputs": [
        {
          "output_type": "stream",
          "name": "stdout",
          "text": [
            "Dataset OxfordIIITPet\n",
            "    Number of datapoints: 3680\n",
            "    Root location: .\n",
            "    <__main__.Compose object at 0x79654e2e0610>\n"
          ]
        }
      ]
    },
    {
      "cell_type": "code",
      "source": [
        "from torch import nn\n",
        "from einops.layers.torch import Rearrange\n",
        "from torch import Tensor\n",
        "\n",
        "class PatchEmbedding(nn.Module):\n",
        "  def __init__(self, in_channels = 3, patch_size = 8, emb_size = 128):\n",
        "    self.patch_size = patch_size\n",
        "    super().__init__()\n",
        "    self.projection = nn.Sequential(\n",
        "         Rearrange('b c (h p1) (w p2) -> b (h w) (p1 p2 c)', p1=patch_size, p2=patch_size),\n",
        "         nn.Linear(patch_size * patch_size * in_channels, emb_size)\n",
        "    )\n",
        "  def forward(self, x:Tensor)->Tensor:\n",
        "    x = self.projection(x)\n",
        "    return x"
      ],
      "metadata": {
        "id": "lb2Qhjy9E4G5"
      },
      "execution_count": 34,
      "outputs": []
    },
    {
      "cell_type": "code",
      "source": [
        "sample_datapoint = torch.unsqueeze(dataset[0][0], 0)\n",
        "print(\"Initial shape: \", sample_datapoint.shape)\n",
        "embedding = PatchEmbedding()(sample_datapoint)\n",
        "print(\"Patches shape: \", embedding.shape)"
      ],
      "metadata": {
        "colab": {
          "base_uri": "https://localhost:8080/"
        },
        "id": "BzhSrkd0HZ5a",
        "outputId": "57b41837-8212-44f3-d18f-8bedfa432de3"
      },
      "execution_count": 35,
      "outputs": [
        {
          "output_type": "stream",
          "name": "stdout",
          "text": [
            "Initial shape:  torch.Size([1, 3, 144, 144])\n",
            "Patches shape:  torch.Size([1, 324, 128])\n"
          ]
        }
      ]
    },
    {
      "cell_type": "code",
      "source": [
        "from einops import rearrange\n",
        "\n",
        "class Attention(nn.Module):\n",
        "    def __init__(self, dim, n_heads, dropout):\n",
        "      super().__init__()\n",
        "      self.n_heads = n_heads\n",
        "      self.attention = nn.modules.MultiheadAttention(dim, n_heads, dropout=dropout)\n",
        "      self.q =torch.nn.Linear(dim,dim)\n",
        "      self.k =torch.nn.Linear(dim,dim)\n",
        "      self.v =torch.nn.Linear(dim,dim)\n",
        "\n",
        "    def forward(self, x):\n",
        "        q = self.q(x)\n",
        "        k = self.k(x)\n",
        "        v = self.v(x)\n",
        "        attn_output, attn_output_weights = self.attention(x, x, x)\n",
        "        return attn_output"
      ],
      "metadata": {
        "id": "6_cdpEpHHdhF"
      },
      "execution_count": 36,
      "outputs": []
    },
    {
      "cell_type": "code",
      "source": [
        "Attention(dim=128, n_heads=4, dropout=0.)(torch.ones((1, 5, 128))).shape"
      ],
      "metadata": {
        "colab": {
          "base_uri": "https://localhost:8080/"
        },
        "id": "68BnAzfxSkna",
        "outputId": "e8c33b68-df26-4bf3-d7dc-010f63ee7209"
      },
      "execution_count": 37,
      "outputs": [
        {
          "output_type": "execute_result",
          "data": {
            "text/plain": [
              "torch.Size([1, 5, 128])"
            ]
          },
          "metadata": {},
          "execution_count": 37
        }
      ]
    },
    {
      "cell_type": "code",
      "source": [
        "class PreNorm(nn.Module):\n",
        "    def __init__(self, dim, fn):\n",
        "        super().__init__()\n",
        "        self.norm = nn.LayerNorm(dim)\n",
        "        self.fn = fn\n",
        "    def forward(self, x, **kwargs):\n",
        "        return self.fn(self.norm(x), **kwargs)"
      ],
      "metadata": {
        "id": "8RWVVxXySn8i"
      },
      "execution_count": 38,
      "outputs": []
    },
    {
      "cell_type": "code",
      "source": [
        "norm = PreNorm(128, Attention(dim=128, n_heads=4, dropout=0.))\n",
        "norm(torch.ones((1, 5, 128))).shape"
      ],
      "metadata": {
        "id": "rDgXXo2yTUDD",
        "outputId": "1826e1d4-50c4-44e1-a1e3-66e9913e6267",
        "colab": {
          "base_uri": "https://localhost:8080/"
        }
      },
      "execution_count": 39,
      "outputs": [
        {
          "output_type": "execute_result",
          "data": {
            "text/plain": [
              "torch.Size([1, 5, 128])"
            ]
          },
          "metadata": {},
          "execution_count": 39
        }
      ]
    },
    {
      "cell_type": "code",
      "source": [
        "class FeedForward(nn.Sequential):\n",
        "  def __init__(self, dim , hidden_dim, dropout = 0):\n",
        "    super().__init__(\n",
        "            nn.Linear(dim, hidden_dim),\n",
        "            nn.GELU(),\n",
        "            nn.Dropout(dropout),\n",
        "            nn.Linear(hidden_dim, dim),\n",
        "            nn.Dropout(dropout)\n",
        "    )\n",
        "\n",
        "ff = FeedForward(dim=128, hidden_dim=256)\n",
        "ff(torch.ones((1, 5, 128))).shape"
      ],
      "metadata": {
        "id": "FaXZA7VjTXKA",
        "colab": {
          "base_uri": "https://localhost:8080/"
        },
        "outputId": "674b0471-335b-415d-c498-3b6e2cb88614"
      },
      "execution_count": 41,
      "outputs": [
        {
          "output_type": "execute_result",
          "data": {
            "text/plain": [
              "torch.Size([1, 5, 128])"
            ]
          },
          "metadata": {},
          "execution_count": 41
        }
      ]
    },
    {
      "cell_type": "code",
      "source": [
        "class ResidualAdd(nn.Module):\n",
        "    def __init__(self, fn):\n",
        "        super().__init__()\n",
        "        self.fn = fn\n",
        "\n",
        "    def forward(self, x, **kwargs):\n",
        "        res = x\n",
        "        x = self.fn(x, **kwargs)\n",
        "        x += res\n",
        "        return x"
      ],
      "metadata": {
        "id": "3q6DrvQ2eJfi"
      },
      "execution_count": 42,
      "outputs": []
    },
    {
      "cell_type": "code",
      "source": [
        "residual_att = ResidualAdd(Attention(dim=128, n_heads=4, dropout=0.))\n",
        "residual_att(torch.ones((1, 5, 128))).shape"
      ],
      "metadata": {
        "colab": {
          "base_uri": "https://localhost:8080/"
        },
        "id": "zrYYtyJ0ea1L",
        "outputId": "738f1e17-6467-41e5-e4b4-39a43b30e402"
      },
      "execution_count": 43,
      "outputs": [
        {
          "output_type": "execute_result",
          "data": {
            "text/plain": [
              "torch.Size([1, 5, 128])"
            ]
          },
          "metadata": {},
          "execution_count": 43
        }
      ]
    },
    {
      "cell_type": "code",
      "source": [],
      "metadata": {
        "id": "Usd-R49SebPF"
      },
      "execution_count": null,
      "outputs": []
    }
  ]
}