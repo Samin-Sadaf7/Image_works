{
  "nbformat": 4,
  "nbformat_minor": 0,
  "metadata": {
    "colab": {
      "provenance": [],
      "gpuType": "T4",
      "authorship_tag": "ABX9TyPbLBvncVziCd/u6HhMADl/",
      "include_colab_link": true
    },
    "kernelspec": {
      "name": "python3",
      "display_name": "Python 3"
    },
    "language_info": {
      "name": "python"
    },
    "accelerator": "GPU"
  },
  "cells": [
    {
      "cell_type": "markdown",
      "metadata": {
        "id": "view-in-github",
        "colab_type": "text"
      },
      "source": [
        "<a href=\"https://colab.research.google.com/github/Samin-Sadaf7/Image_works/blob/main/VisionTransformers_Image_Classification.ipynb\" target=\"_parent\"><img src=\"https://colab.research.google.com/assets/colab-badge.svg\" alt=\"Open In Colab\"/></a>"
      ]
    },
    {
      "cell_type": "code",
      "execution_count": 22,
      "metadata": {
        "colab": {
          "base_uri": "https://localhost:8080/"
        },
        "id": "07QAuwELATIu",
        "outputId": "74fbcc9c-b507-4c20-d07c-2c027bbb3fd7"
      },
      "outputs": [
        {
          "output_type": "stream",
          "name": "stdout",
          "text": [
            "Requirement already satisfied: einops in /usr/local/lib/python3.10/dist-packages (0.8.0)\n"
          ]
        }
      ],
      "source": [
        "!pip install einops"
      ]
    },
    {
      "cell_type": "code",
      "source": [
        "import torch\n",
        "from torchvision.datasets import OxfordIIITPet\n",
        "import matplotlib.pyplot as plt\n",
        "from random import random\n",
        "from torchvision.transforms import ToTensor, Resize\n",
        "from torchvision.transforms.functional import to_pil_image"
      ],
      "metadata": {
        "id": "es0F94JcDOzz"
      },
      "execution_count": 23,
      "outputs": []
    },
    {
      "cell_type": "code",
      "source": [
        "to_tensor = [Resize((144, 144)), ToTensor()]"
      ],
      "metadata": {
        "id": "Ij7HuzKAEGbt"
      },
      "execution_count": 24,
      "outputs": []
    },
    {
      "cell_type": "code",
      "source": [
        "class Compose(object):\n",
        "  def __init__(self, transforms):\n",
        "    self.transforms = transforms\n",
        "  def __call__(self, image, target):\n",
        "    for t in self.transforms:\n",
        "      image = t(image)\n",
        "    return image, target"
      ],
      "metadata": {
        "id": "FNFDFKevESHM"
      },
      "execution_count": 25,
      "outputs": []
    },
    {
      "cell_type": "code",
      "source": [
        "def show_images(images, num_samples=40, cols=8):\n",
        "    plt.figure(figsize=(15,15))\n",
        "    idx = int(len(dataset) / num_samples)\n",
        "    print(images)\n",
        "    for i, img in enumerate(images):\n",
        "        if i % idx == 0:\n",
        "            plt.subplot(int(num_samples/cols) + 1, cols, int(i/idx) + 1)\n",
        "            plt.imshow(to_pil_image(img[0]))"
      ],
      "metadata": {
        "id": "0NIOc9Z2Enh8"
      },
      "execution_count": 26,
      "outputs": []
    },
    {
      "cell_type": "code",
      "source": [
        "dataset = OxfordIIITPet(root=\".\", download=True, transforms=Compose(to_tensor))\n",
        "show_images(dataset)"
      ],
      "metadata": {
        "colab": {
          "base_uri": "https://localhost:8080/"
        },
        "id": "wyPKEYFoEv1l",
        "outputId": "9061f408-fde1-45c7-9a37-52b3001b9b04"
      },
      "execution_count": 27,
      "outputs": [
        {
          "output_type": "stream",
          "name": "stdout",
          "text": [
            "Dataset OxfordIIITPet\n",
            "    Number of datapoints: 3680\n",
            "    Root location: .\n",
            "    <__main__.Compose object at 0x79654e2e0610>\n"
          ]
        }
      ]
    },
    {
      "cell_type": "code",
      "source": [
        "from torch import nn\n",
        "from einops.layers.torch import Rearrange\n",
        "from torch import Tensor\n",
        "\n",
        "class PatchEmbedding(nn.Module):\n",
        "  def __init__(self, in_channels = 3, patch_size = 8, emb_size = 128):\n",
        "    self.patch_size = patch_size\n",
        "    super().__init__()\n",
        "    self.projection = nn.Sequential(\n",
        "         Rearrange('b c (h p1) (w p2) -> b (h w) (p1 p2 c)', p1=patch_size, p2=patch_size),\n",
        "         nn.Linear(patch_size * patch_size * in_channels, emb_size)\n",
        "    )\n",
        "  def forward(self, x:Tensor)->Tensor:\n",
        "    x = self.projection(x)\n",
        "    return x"
      ],
      "metadata": {
        "id": "lb2Qhjy9E4G5"
      },
      "execution_count": 34,
      "outputs": []
    },
    {
      "cell_type": "code",
      "source": [
        "sample_datapoint = torch.unsqueeze(dataset[0][0], 0)\n",
        "print(\"Initial shape: \", sample_datapoint.shape)\n",
        "embedding = PatchEmbedding()(sample_datapoint)\n",
        "print(\"Patches shape: \", embedding.shape)"
      ],
      "metadata": {
        "colab": {
          "base_uri": "https://localhost:8080/"
        },
        "id": "BzhSrkd0HZ5a",
        "outputId": "57b41837-8212-44f3-d18f-8bedfa432de3"
      },
      "execution_count": 35,
      "outputs": [
        {
          "output_type": "stream",
          "name": "stdout",
          "text": [
            "Initial shape:  torch.Size([1, 3, 144, 144])\n",
            "Patches shape:  torch.Size([1, 324, 128])\n"
          ]
        }
      ]
    },
    {
      "cell_type": "code",
      "source": [
        "from einops import rearrange\n",
        "\n",
        "class Attention(nn.Module):\n",
        "    def __init__(self, dim, n_heads, dropout):\n",
        "      super().__init__()\n",
        "      self.n_heads = n_heads\n",
        "      self.attention = nn.modules.MultiheadAttention(dim, n_heads, dropout=dropout)\n",
        "      self.q =torch.nn.Linear(dim,dim)\n",
        "      self.k =torch.nn.Linear(dim,dim)\n",
        "      self.v =torch.nn.Linear(dim,dim)\n",
        "\n",
        "    def forward(self, x):\n",
        "        q = self.q(x)\n",
        "        k = self.k(x)\n",
        "        v = self.v(x)\n",
        "        attn_output, attn_output_weights = self.attention(x, x, x)\n",
        "        return attn_output"
      ],
      "metadata": {
        "id": "6_cdpEpHHdhF"
      },
      "execution_count": 36,
      "outputs": []
    },
    {
      "cell_type": "code",
      "source": [
        "Attention(dim=128, n_heads=4, dropout=0.)(torch.ones((1, 5, 128))).shape"
      ],
      "metadata": {
        "colab": {
          "base_uri": "https://localhost:8080/"
        },
        "id": "68BnAzfxSkna",
        "outputId": "e8c33b68-df26-4bf3-d7dc-010f63ee7209"
      },
      "execution_count": 37,
      "outputs": [
        {
          "output_type": "execute_result",
          "data": {
            "text/plain": [
              "torch.Size([1, 5, 128])"
            ]
          },
          "metadata": {},
          "execution_count": 37
        }
      ]
    },
    {
      "cell_type": "code",
      "source": [
        "class PreNorm(nn.Module):\n",
        "    def __init__(self, dim, fn):\n",
        "        super().__init__()\n",
        "        self.norm = nn.LayerNorm(dim)\n",
        "        self.fn = fn\n",
        "    def forward(self, x, **kwargs):\n",
        "        return self.fn(self.norm(x), **kwargs)"
      ],
      "metadata": {
        "id": "8RWVVxXySn8i"
      },
      "execution_count": 38,
      "outputs": []
    },
    {
      "cell_type": "code",
      "source": [
        "norm = PreNorm(128, Attention(dim=128, n_heads=4, dropout=0.))\n",
        "norm(torch.ones((1, 5, 128))).shape"
      ],
      "metadata": {
        "id": "rDgXXo2yTUDD",
        "outputId": "1826e1d4-50c4-44e1-a1e3-66e9913e6267",
        "colab": {
          "base_uri": "https://localhost:8080/"
        }
      },
      "execution_count": 39,
      "outputs": [
        {
          "output_type": "execute_result",
          "data": {
            "text/plain": [
              "torch.Size([1, 5, 128])"
            ]
          },
          "metadata": {},
          "execution_count": 39
        }
      ]
    },
    {
      "cell_type": "code",
      "source": [
        "class FeedForward(nn.Sequential):\n",
        "  def __init__(self, dim , hidden_dim, dropout = 0):\n",
        "    super().__init__(\n",
        "            nn.Linear(dim, hidden_dim),\n",
        "            nn.GELU(),\n",
        "            nn.Dropout(dropout),\n",
        "            nn.Linear(hidden_dim, dim),\n",
        "            nn.Dropout(dropout)\n",
        "    )\n",
        "\n",
        "ff = FeedForward(dim=128, hidden_dim=256)\n",
        "ff(torch.ones((1, 5, 128))).shape"
      ],
      "metadata": {
        "id": "FaXZA7VjTXKA",
        "colab": {
          "base_uri": "https://localhost:8080/"
        },
        "outputId": "674b0471-335b-415d-c498-3b6e2cb88614"
      },
      "execution_count": 41,
      "outputs": [
        {
          "output_type": "execute_result",
          "data": {
            "text/plain": [
              "torch.Size([1, 5, 128])"
            ]
          },
          "metadata": {},
          "execution_count": 41
        }
      ]
    },
    {
      "cell_type": "code",
      "source": [
        "class ResidualAdd(nn.Module):\n",
        "    def __init__(self, fn):\n",
        "        super().__init__()\n",
        "        self.fn = fn\n",
        "\n",
        "    def forward(self, x, **kwargs):\n",
        "        res = x\n",
        "        x = self.fn(x, **kwargs)\n",
        "        x += res\n",
        "        return x"
      ],
      "metadata": {
        "id": "3q6DrvQ2eJfi"
      },
      "execution_count": 42,
      "outputs": []
    },
    {
      "cell_type": "code",
      "source": [
        "residual_att = ResidualAdd(Attention(dim=128, n_heads=4, dropout=0.))\n",
        "residual_att(torch.ones((1, 5, 128))).shape"
      ],
      "metadata": {
        "colab": {
          "base_uri": "https://localhost:8080/"
        },
        "id": "zrYYtyJ0ea1L",
        "outputId": "738f1e17-6467-41e5-e4b4-39a43b30e402"
      },
      "execution_count": 43,
      "outputs": [
        {
          "output_type": "execute_result",
          "data": {
            "text/plain": [
              "torch.Size([1, 5, 128])"
            ]
          },
          "metadata": {},
          "execution_count": 43
        }
      ]
    },
    {
      "cell_type": "code",
      "source": [
        "from einops import repeat\n",
        "\n",
        "class ViT(nn.Module):\n",
        "    def __init__(self, ch=3, img_size=144, patch_size=4, emb_dim=32,\n",
        "                n_layers=6, out_dim=37, dropout=0.1, heads=2):\n",
        "        super(ViT, self).__init__()\n",
        "\n",
        "        # Attributes\n",
        "        self.channels = ch\n",
        "        self.height = img_size\n",
        "        self.width = img_size\n",
        "        self.patch_size = patch_size\n",
        "        self.n_layers = n_layers\n",
        "\n",
        "        # Patching\n",
        "        self.patch_embedding = PatchEmbedding(in_channels=ch,\n",
        "                                              patch_size=patch_size,\n",
        "                                              emb_size=emb_dim)\n",
        "        # Learnable params\n",
        "        num_patches = (img_size // patch_size) ** 2\n",
        "        self.pos_embedding = nn.Parameter(\n",
        "            torch.randn(1, num_patches + 1, emb_dim))\n",
        "        self.cls_token = nn.Parameter(torch.rand(1, 1, emb_dim))\n",
        "\n",
        "        # Transformer Encoder\n",
        "        self.layers = nn.ModuleList([])\n",
        "        for _ in range(n_layers):\n",
        "            transformer_block = nn.Sequential(\n",
        "                ResidualAdd(PreNorm(emb_dim, Attention(emb_dim, n_heads = heads, dropout = dropout))),\n",
        "                ResidualAdd(PreNorm(emb_dim, FeedForward(emb_dim, emb_dim, dropout = dropout))))\n",
        "            self.layers.append(transformer_block)\n",
        "\n",
        "        # Classification head\n",
        "        self.head = nn.Sequential(nn.LayerNorm(emb_dim), nn.Linear(emb_dim, out_dim))\n",
        "\n",
        "\n",
        "    def forward(self, img):\n",
        "        # Get patch embedding vectors\n",
        "        x = self.patch_embedding(img)\n",
        "        b, n, _ = x.shape\n",
        "\n",
        "        # Add cls token to inputs\n",
        "        cls_tokens = repeat(self.cls_token, '1 1 d -> b 1 d', b = b)\n",
        "        x = torch.cat([cls_tokens, x], dim=1)\n",
        "        x += self.pos_embedding[:, :(n + 1)]\n",
        "\n",
        "        # Transformer layers\n",
        "        for i in range(self.n_layers):\n",
        "            x = self.layers[i](x)\n",
        "\n",
        "        # Output based on classification token\n",
        "        return self.head(x[:, 0, :])\n",
        "\n",
        "\n",
        "model = ViT()\n",
        "print(model)\n",
        "model(torch.ones((1, 3, 144, 144)))"
      ],
      "metadata": {
        "colab": {
          "base_uri": "https://localhost:8080/"
        },
        "id": "Usd-R49SebPF",
        "outputId": "326c4585-5993-48b0-daae-79bcfedfff25"
      },
      "execution_count": 44,
      "outputs": [
        {
          "output_type": "stream",
          "name": "stdout",
          "text": [
            "ViT(\n",
            "  (patch_embedding): PatchEmbedding(\n",
            "    (projection): Sequential(\n",
            "      (0): Rearrange('b c (h p1) (w p2) -> b (h w) (p1 p2 c)', p1=4, p2=4)\n",
            "      (1): Linear(in_features=48, out_features=32, bias=True)\n",
            "    )\n",
            "  )\n",
            "  (layers): ModuleList(\n",
            "    (0-5): 6 x Sequential(\n",
            "      (0): ResidualAdd(\n",
            "        (fn): PreNorm(\n",
            "          (norm): LayerNorm((32,), eps=1e-05, elementwise_affine=True)\n",
            "          (fn): Attention(\n",
            "            (attention): MultiheadAttention(\n",
            "              (out_proj): NonDynamicallyQuantizableLinear(in_features=32, out_features=32, bias=True)\n",
            "            )\n",
            "            (q): Linear(in_features=32, out_features=32, bias=True)\n",
            "            (k): Linear(in_features=32, out_features=32, bias=True)\n",
            "            (v): Linear(in_features=32, out_features=32, bias=True)\n",
            "          )\n",
            "        )\n",
            "      )\n",
            "      (1): ResidualAdd(\n",
            "        (fn): PreNorm(\n",
            "          (norm): LayerNorm((32,), eps=1e-05, elementwise_affine=True)\n",
            "          (fn): FeedForward(\n",
            "            (0): Linear(in_features=32, out_features=32, bias=True)\n",
            "            (1): GELU(approximate='none')\n",
            "            (2): Dropout(p=0.1, inplace=False)\n",
            "            (3): Linear(in_features=32, out_features=32, bias=True)\n",
            "            (4): Dropout(p=0.1, inplace=False)\n",
            "          )\n",
            "        )\n",
            "      )\n",
            "    )\n",
            "  )\n",
            "  (head): Sequential(\n",
            "    (0): LayerNorm((32,), eps=1e-05, elementwise_affine=True)\n",
            "    (1): Linear(in_features=32, out_features=37, bias=True)\n",
            "  )\n",
            ")\n"
          ]
        },
        {
          "output_type": "execute_result",
          "data": {
            "text/plain": [
              "tensor([[ 0.4495, -1.1386, -0.7370, -1.0422, -0.0453,  0.8273,  0.1548,  0.1959,\n",
              "         -1.0053, -0.5954,  0.3081, -0.1982, -0.3158, -0.6085,  0.2176,  0.3283,\n",
              "         -0.0663, -1.1111, -1.3108, -0.2882,  0.3813, -0.4548,  1.3074,  0.2196,\n",
              "          0.4983,  0.2112, -0.8554,  0.5920,  0.6605, -0.0613,  0.4912, -0.1345,\n",
              "         -0.2898,  0.0343, -0.6603, -0.2918,  0.5197]],\n",
              "       grad_fn=<AddmmBackward0>)"
            ]
          },
          "metadata": {},
          "execution_count": 44
        }
      ]
    },
    {
      "cell_type": "code",
      "source": [],
      "metadata": {
        "id": "eNMbwvh0exCg"
      },
      "execution_count": null,
      "outputs": []
    }
  ]
}